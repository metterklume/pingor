{
 "cells": [
  {
   "cell_type": "markdown",
   "metadata": {},
   "source": [
    "## IMPORTANT - make a copy of this notebook and work on that\n",
    "(this way you can pull updates easily from the git repo)"
   ]
  },
  {
   "cell_type": "markdown",
   "metadata": {},
   "source": [
    "## Requirements\n",
    "\n",
    "1. Install opencv, *pip install opencv-python*. If you are using conda, look up the current package. \n",
    "\n",
    "2. Install imutils, *pip install imutils*"
   ]
  },
  {
   "cell_type": "markdown",
   "metadata": {},
   "source": [
    "## Set the directory to read data from\n",
    "\n",
    "Download this folder: [Data](https://drive.google.com/drive/folders/1zT578fAbqxBvzlZfxDDNIvm4tVxeqZ3p?usp=sharing)\n",
    " and set DATA_DIRECTORY below to its path.\n",
    "\n",
    "**Note**: you will not touch this directory or the file *blackboxscore.py* during the challenge. "
   ]
  },
  {
   "cell_type": "code",
   "execution_count": 2,
   "metadata": {},
   "outputs": [
    {
     "data": {
      "text/plain": [
       "'3.4.2'"
      ]
     },
     "execution_count": 2,
     "metadata": {},
     "output_type": "execute_result"
    }
   ],
   "source": [
    "from blackbox import blackboxscore\n",
    "import cv2\n",
    "import glob\n",
    "\n",
    "cv2.__version__"
   ]
  },
  {
   "cell_type": "code",
   "execution_count": 4,
   "metadata": {},
   "outputs": [],
   "source": [
    "DATA_DIRECTORY = \"../orangeball\" \n",
    "\n",
    "flist = glob.glob(DATA_DIRECTORY+\"/*\")\n",
    "flist.sort()"
   ]
  },
  {
   "cell_type": "markdown",
   "metadata": {},
   "source": [
    "## The Challenge\n",
    "\n",
    "This is an optimisation challenge, where your inputs are a set of 6 numbers (x_low,y_low,z_low), (x_high,y_high,z_high) in 3D marking the lower and upper bounds of a cube (or rather a cuboid). You can assume that 0<= x,y,z <= 255 and they are integers. The function *blackboxscore* outputs a score between 0 and 1. Your challenge is to **maximise this score**.\n",
    "\n",
    "You can use any technique you wish - brute force, genetic algorithm, simulated annealing... But note that the objective is an algorithm not the optimal numbers. Your submission will be tested on different data.\n",
    "\n",
    "#### Input\n",
    "*blackboxscore(flist,lower,upper,sample=-1)*\n",
    "\n",
    "- *flist* The list of files from the above image directory **do not touch this**. \n",
    "- *lower = (x_low,y_low,z_low)* where each integer lies in \\[0,255\\]\n",
    "- *upper = (x_high,y_high,z_high)* where each integer lies in \\[0,255\\] \n",
    "- *sample* (optional) takes a number of data points at random for the score. The default is -1 which includes the whole dataset but can be slow.\n",
    "\n",
    "Each *high* value should be > than its corresponding *low* otherwise the score is trivially zero (try it!).  \n",
    "\n",
    "#### Output\n",
    "0 <= score <= 1. \n",
    "Most random inputs will have score = 0. This is normal. "
   ]
  },
  {
   "cell_type": "code",
   "execution_count": 17,
   "metadata": {},
   "outputs": [
    {
     "data": {
      "text/plain": [
       "0.08695652173913043"
      ]
     },
     "execution_count": 17,
     "metadata": {},
     "output_type": "execute_result"
    }
   ],
   "source": [
    "#Just an example. The score can get much higher than this!\n",
    "blackboxscore(flist,(0, 150, 200),(60, 230, 255),sample=-1)"
   ]
  },
  {
   "cell_type": "code",
   "execution_count": 16,
   "metadata": {},
   "outputs": [
    {
     "data": {
      "text/plain": [
       "0.2"
      ]
     },
     "execution_count": 16,
     "metadata": {},
     "output_type": "execute_result"
    }
   ],
   "source": [
    "#With random sampling. Note that the score will change everytime you run this. \n",
    "blackboxscore(flist,(0, 150, 200),(60, 230, 255),sample=10)"
   ]
  },
  {
   "cell_type": "markdown",
   "metadata": {},
   "source": [
    "### Explanation\n",
    "(Just for some context; you **do not need to read this** to participate in the challenge. In fact it might be more fun that way!)\n",
    "\n",
    "Each of your inputs defines a range in colour space. You can think of (x_low,x_high) as a range in RED, (y_low,y_high) in GREEN and (z_low,z_high) in BLUE. The blackbox takes a set of images, applies your range as a *colour mask* and checks if it can detect a circular target. If you peek at the DATA directory, it will be evident what the target is. \n",
    "\n",
    "Every image where exactly one target is detected, gets a score of 1, else the score is 0. The output score is an average over all the images. If your colour range is too big eg. (x_low,y_low,z_low) = (0,0,0) and (x_high,y_high,z_high) = (255,255,255) the detection algorithm will fail completely giving a zero score. The same happens when your range is too small. \n",
    "\n",
    "The object is the same in all files, but changing lighting conditions, noise and interference from other objects, makes the optimal ranges slightly different for each file. This is part of the challenge."
   ]
  }
 ],
 "metadata": {
  "kernelspec": {
   "display_name": "Python 3",
   "language": "python",
   "name": "python3"
  },
  "language_info": {
   "codemirror_mode": {
    "name": "ipython",
    "version": 3
   },
   "file_extension": ".py",
   "mimetype": "text/x-python",
   "name": "python",
   "nbconvert_exporter": "python",
   "pygments_lexer": "ipython3",
   "version": "3.7.1"
  }
 },
 "nbformat": 4,
 "nbformat_minor": 2
}
