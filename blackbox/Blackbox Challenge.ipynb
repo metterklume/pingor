{
 "cells": [
  {
   "cell_type": "markdown",
   "metadata": {},
   "source": [
    "## IMPORTANT - make a copy of this notebook and work on that\n",
    "(this way you can pull updates from the git repo)"
   ]
  },
  {
   "cell_type": "markdown",
   "metadata": {},
   "source": [
    "### Requirements\n",
    "\n",
    "1. Install opencv, *pip install opencv-python*. If you are using conda, look up the current package. \n",
    "\n",
    "2. Install imutils, *pip install imutils*"
   ]
  },
  {
   "cell_type": "markdown",
   "metadata": {},
   "source": [
    "### Set the directory to read images from\n",
    "\n",
    "Download this folder: [Images] (https://drive.google.com/drive/folders/1zT578fAbqxBvzlZfxDDNIvm4tVxeqZ3p?usp=sharing)\n",
    "\n",
    "and set path in IMAGE_DIRECTORY below"
   ]
  },
  {
   "cell_type": "code",
   "execution_count": 10,
   "metadata": {},
   "outputs": [
    {
     "data": {
      "text/plain": [
       "'3.4.2'"
      ]
     },
     "execution_count": 10,
     "metadata": {},
     "output_type": "execute_result"
    }
   ],
   "source": [
    "from blackbox import blackboxscore\n",
    "import cv2\n",
    "import glob\n",
    "\n",
    "cv2.__version__"
   ]
  },
  {
   "cell_type": "code",
   "execution_count": 9,
   "metadata": {},
   "outputs": [],
   "source": [
    "IMAGE_DIRECTORY = \"../orangeball\" "
   ]
  },
  {
   "cell_type": "code",
   "execution_count": 8,
   "metadata": {},
   "outputs": [],
   "source": [
    "flist = glob.glob(IMAGE_DIRECTORY+\"/*\")\n",
    "flist.sort()"
   ]
  },
  {
   "cell_type": "markdown",
   "metadata": {},
   "source": [
    "### The Challenge\n",
    "\n",
    "Your task is write an **algorithm** that **maximises** the output of the *blackboxscore* function. You can think of the inputs as being as coordinates of a cuboid that lies in 3D colourspace 0<= low,high <= 255. You do not need to know anything about colours or images - it's a blackbox!\n",
    "\n",
    "#### Input\n",
    "*blackboxscore(flist,lower,upper,sample=-1)*\n",
    "\n",
    "- *flist* The list of files from the above image directory **do not touch this**. \n",
    "- *lower = (h_low,s_low,v_low)* where each integer lies in \\[0,255\\]\n",
    "- *upper = (h_high,s_high,v_high)* where each integer lies in \\[0,255\\] \n",
    "- *sample* (optional) number of files to take at random for the score, -1 (default) means include all of them. Sampling speeds up the scoring at the cost of some accuracy.\n",
    "\n",
    "Each *high* value should be > than its corresponding *low* otherwise the score is trivially zero (try it!).  \n",
    "\n",
    "#### Output\n",
    "0 <= score <= 1. \n",
    "Most random inputs will have score = 0. This is normal. "
   ]
  },
  {
   "cell_type": "code",
   "execution_count": 11,
   "metadata": {},
   "outputs": [
    {
     "data": {
      "text/plain": [
       "0.08695652173913043"
      ]
     },
     "execution_count": 11,
     "metadata": {},
     "output_type": "execute_result"
    }
   ],
   "source": [
    "blackboxscore(flist,(0, 150, 200),(60, 230, 255),sample=-1)"
   ]
  }
 ],
 "metadata": {
  "kernelspec": {
   "display_name": "Python 3",
   "language": "python",
   "name": "python3"
  },
  "language_info": {
   "codemirror_mode": {
    "name": "ipython",
    "version": 3
   },
   "file_extension": ".py",
   "mimetype": "text/x-python",
   "name": "python",
   "nbconvert_exporter": "python",
   "pygments_lexer": "ipython3",
   "version": "3.7.1"
  }
 },
 "nbformat": 4,
 "nbformat_minor": 2
}
